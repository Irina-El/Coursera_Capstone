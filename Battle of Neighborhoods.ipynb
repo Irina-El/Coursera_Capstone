{
    "cells": [
        {
            "cell_type": "markdown",
            "metadata": {
                "collapsed": true
            },
            "source": "# Introduction/Business Problem"
        },
        {
            "cell_type": "markdown",
            "metadata": {},
            "source": "I'm going to open a modern restaurant in Sydney, Australia. \nMy problem is to determin an optimal location for the restaurant.\nI think that the best place for it is somewhere in an area where there are many other restaurants with good ratings. People will come to a restaurant with a high score and see my place. After they'll decide to visit my restaurant.\n\nTherefore I need to find an area where the most restaurants with high score reviwies are located in Sydney."
        },
        {
            "cell_type": "markdown",
            "metadata": {},
            "source": "# Data"
        },
        {
            "cell_type": "markdown",
            "metadata": {},
            "source": "For solving this task I need: \n* Geolocations of all restaurants in Sydney from Foursquare. \n* Review score of all these restaurants from Foursquare."
        },
        {
            "cell_type": "code",
            "execution_count": null,
            "metadata": {},
            "outputs": [],
            "source": ""
        }
    ],
    "metadata": {
        "kernelspec": {
            "display_name": "Python 3.6",
            "language": "python",
            "name": "python3"
        },
        "language_info": {
            "codemirror_mode": {
                "name": "ipython",
                "version": 3
            },
            "file_extension": ".py",
            "mimetype": "text/x-python",
            "name": "python",
            "nbconvert_exporter": "python",
            "pygments_lexer": "ipython3",
            "version": "3.6.9"
        }
    },
    "nbformat": 4,
    "nbformat_minor": 1
}